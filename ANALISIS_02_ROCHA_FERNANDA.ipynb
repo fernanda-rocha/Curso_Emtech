{
 "cells": [
  {
   "cell_type": "code",
   "execution_count": 2,
   "metadata": {},
   "outputs": [],
   "source": [
    "#Importar pandas y leer el archivo csv\n",
    "import pandas as pd\n",
    "\n",
    "archivo = pd.read_csv(\"synergy_logistics_database.csv\")"
   ]
  },
  {
   "cell_type": "code",
   "execution_count": 3,
   "metadata": {},
   "outputs": [],
   "source": [
    "#Sacar cada país con sus diferentes rutas\n",
    "filtro = archivo.groupby(['direction','origin','destination','transport_mode'])['total_value'].sum()"
   ]
  },
  {
   "cell_type": "code",
   "execution_count": 4,
   "metadata": {},
   "outputs": [],
   "source": [
    "#Guardar nuestra nueva tabla en un csv\n",
    "filtro.to_csv(\"filtro.csv\")"
   ]
  },
  {
   "cell_type": "code",
   "execution_count": 5,
   "metadata": {},
   "outputs": [],
   "source": [
    "#leer el nuevo csv\n",
    "datos_filtrados = pd.read_csv(\"filtro.csv\")"
   ]
  },
  {
   "cell_type": "code",
   "execution_count": 6,
   "metadata": {},
   "outputs": [],
   "source": [
    "#Separar las tablas en exportaciones e importaciones\n",
    "rutas_exp = archivo[archivo['direction'] == 'Exports']\n",
    "rutas_imp = archivo[archivo['direction']=='Imports']"
   ]
  },
  {
   "cell_type": "code",
   "execution_count": 7,
   "metadata": {},
   "outputs": [],
   "source": [
    "#Calcular las rutas más usadas en las exportaciones\n",
    "rutas_usadas_exp = rutas_exp.groupby(['origin','destination']).size().reset_index().rename(columns={0:'rutas_exportaciones'})\n",
    "top_rutas_exp = rutas_usadas_exp.sort_values('rutas_exportaciones',ascending=False)"
   ]
  },
  {
   "cell_type": "code",
   "execution_count": 8,
   "metadata": {},
   "outputs": [],
   "source": [
    "#Calcular las rutas más usadas en las importaciones\n",
    "rutas_usadas_imp = rutas_imp.groupby(['origin','destination']).size().reset_index().rename(columns={0:'rutas_importaciones'})\n",
    "top_rutas_imp = rutas_usadas_imp.sort_values('rutas_importaciones',ascending=False)"
   ]
  },
  {
   "cell_type": "code",
   "execution_count": 9,
   "metadata": {},
   "outputs": [],
   "source": [
    "#Generar una tabla de exportaciones\n",
    "exportaciones = datos_filtrados[datos_filtrados['direction'] == 'Exports']"
   ]
  },
  {
   "cell_type": "code",
   "execution_count": 10,
   "metadata": {},
   "outputs": [],
   "source": [
    "#Generar una tabla de importaciones\n",
    "importaciones = datos_filtrados[datos_filtrados['direction'] == 'Imports']"
   ]
  },
  {
   "cell_type": "code",
   "execution_count": 11,
   "metadata": {},
   "outputs": [],
   "source": [
    "#Ordenar los datos para sacar las rutas de exportación que generan más dinero\n",
    "mejores_exp = exportaciones.sort_values('total_value',ascending=False)"
   ]
  },
  {
   "cell_type": "code",
   "execution_count": 12,
   "metadata": {},
   "outputs": [],
   "source": [
    "#Ordenar los datos para sacar las rutas de importación que generan más dinero\n",
    "mejores_imp = importaciones.sort_values('total_value',ascending=False)"
   ]
  },
  {
   "cell_type": "code",
   "execution_count": 13,
   "metadata": {},
   "outputs": [],
   "source": [
    "#Calcular el número de veces que se utilizó cada medio de transporte\n",
    "filtro_t = archivo.groupby(['direction','transport_mode']).agg(Total_transporte=('transport_mode', 'count'), Total_dinero=('total_value', 'sum'))"
   ]
  },
  {
   "cell_type": "code",
   "execution_count": 14,
   "metadata": {},
   "outputs": [],
   "source": [
    "#Calcular los países que generaron más dinero con las exportaciones \n",
    "filtro_pais_exp = exportaciones.groupby(['origin']).agg(Total_pais_origen=('origin','count'), Dinero_pais_origen=('total_value','sum'))\n",
    "ganancias_exp = filtro_pais_exp.sort_values('Dinero_pais_origen',ascending=False)"
   ]
  },
  {
   "cell_type": "code",
   "execution_count": 18,
   "metadata": {},
   "outputs": [],
   "source": [
    "#Calcular los países que generaron más dinero con las importaciones \n",
    "filtro_pais_imp = importaciones.groupby(['destination']).agg(Total_pais_destino=('destination','count'), Dinero_pais_destino=('total_value','sum'))\n",
    "ganancias_imp = filtro_pais_imp.sort_values('Dinero_pais_destino',ascending=False)"
   ]
  },
  {
   "cell_type": "code",
   "execution_count": 20,
   "metadata": {},
   "outputs": [
    {
     "name": "stdout",
     "output_type": "stream",
     "text": [
      "\t1 Rutas de importación y exportación con mayor ganancia\n",
      "\t2 Rutas de importación y exportación más usadas\n",
      "\t3 Medio de transporte utilizado\n",
      "\t4 Valor total de importaciones y exportaciones\n",
      "\t5 Salir\n",
      "\n",
      "Seleccionar una opción: \n",
      "1\n",
      "\n",
      "Rutas de exportación con mayores ganancias\n",
      "\n",
      "    direction       origin     destination transport_mode  total_value\n",
      "34    Exports        China          Mexico            Air  12250000000\n",
      "25    Exports       Canada          Mexico           Rail   8450000000\n",
      "134   Exports  South Korea         Vietnam            Sea   6877007000\n",
      "52    Exports       France  United Kingdom            Sea   5427000000\n",
      "131   Exports  South Korea           Japan            Sea   4594000000\n",
      "36    Exports        China     South Korea           Rail   4535000000\n",
      "152   Exports          USA          Mexico           Rail   4370000000\n",
      "42    Exports       France         Belgium           Road   4257000000\n",
      "31    Exports        China         Germany            Air   4090000000\n",
      "39    Exports        China             USA            Air   3797000000\n",
      "51    Exports       France             USA            Sea   3402000000\n",
      "\n",
      "Rutas de importación con mayores ganancias\n",
      "\n",
      "    direction       origin           destination transport_mode  total_value\n",
      "198   Imports    Singapore              Thailand            Sea   4017000000\n",
      "184   Imports        Japan                Mexico            Sea   3918000000\n",
      "190   Imports     Malaysia              Thailand           Rail   3482000000\n",
      "173   Imports        China  United Arab Emirates            Sea   3357000000\n",
      "167   Imports        China                 Japan            Air   3237000000\n",
      "171   Imports        China              Thailand           Road   2786000000\n",
      "188   Imports        Japan  United Arab Emirates            Sea   2238000000\n",
      "195   Imports       Mexico                   USA           Rail   2060000000\n",
      "203   Imports        Spain               Germany           Road   2044000000\n",
      "178   Imports      Germany                Mexico            Sea   1804000000\n",
      "202   Imports  South Korea  United Arab Emirates            Sea   1713000000 \n",
      "\n",
      "\t1 Rutas de importación y exportación con mayor ganancia\n",
      "\t2 Rutas de importación y exportación más usadas\n",
      "\t3 Medio de transporte utilizado\n",
      "\t4 Valor total de importaciones y exportaciones\n",
      "\t5 Salir\n",
      "\n",
      "Seleccionar una opción: \n",
      "5\n"
     ]
    }
   ],
   "source": [
    "opciones = 1\n",
    "while opciones:\n",
    "    \n",
    "    print(\"\\t1 Rutas de importación y exportación con mayor ganancia\")\n",
    "    print(\"\\t2 Rutas de importación y exportación más usadas\")\n",
    "    print(\"\\t3 Medio de transporte utilizado\")\n",
    "    print(\"\\t4 Valor total de importaciones y exportaciones\")\n",
    "    print(\"\\t5 Salir\")\n",
    "    opcion_menu = input(\"\\nSeleccionar una opción: \\n\")\n",
    "    \n",
    "    \n",
    "    if opcion_menu == '1':\n",
    "        print(\"\\nRutas de exportación con mayores ganancias\\n\")\n",
    "        mejores_exp = exportaciones.sort_values('total_value',ascending=False)\n",
    "        print(mejores_exp[0:11])\n",
    "        print(\"\\nRutas de importación con mayores ganancias\\n\")\n",
    "        mejores_imp = importaciones.sort_values('total_value',ascending=False)\n",
    "        print(mejores_imp[0:11],\"\\n\")\n",
    "        \n",
    "    elif opcion_menu == '2':\n",
    "        print(\"\\nRutas de exportación más utilizadas\")\n",
    "        print(top_rutas_exp[0:11])\n",
    "        print(\"\\nRutas de importación más utilizadas\")\n",
    "        print(top_rutas_imp[0:11],\"\\n\")\n",
    "        \n",
    "    elif opcion_menu == '3':\n",
    "        print(\"\\nEste es el número de veces que se utilizó cada transporte:\\n\")\n",
    "        filtro_t = archivo.groupby(['direction','transport_mode']).agg(Total_transporte=('transport_mode', 'count'), Total_dinero=('total_value', 'sum'))\n",
    "        print(filtro_t,\"\\n\")\n",
    "        \n",
    "    elif opcion_menu == '4':\n",
    "        print(\"\\nPaíses que generaron más dinero con las exportaciones: \\n\")\n",
    "        print(ganancias_exp)\n",
    "        print(\"\\nPaíses que generaron más dinero con las importaciones: \\n\")\n",
    "        print(ganancias_imp, \"\\n\")\n",
    "    \n",
    "    elif opcion_menu == '5':\n",
    "        break\n",
    "    else:\n",
    "        print(\"Esta opción no existe\")\n"
   ]
  },
  {
   "cell_type": "code",
   "execution_count": null,
   "metadata": {},
   "outputs": [],
   "source": []
  }
 ],
 "metadata": {
  "kernelspec": {
   "display_name": "Python 3",
   "language": "python",
   "name": "python3"
  },
  "language_info": {
   "codemirror_mode": {
    "name": "ipython",
    "version": 3
   },
   "file_extension": ".py",
   "mimetype": "text/x-python",
   "name": "python",
   "nbconvert_exporter": "python",
   "pygments_lexer": "ipython3",
   "version": "3.7.6"
  }
 },
 "nbformat": 4,
 "nbformat_minor": 4
}
